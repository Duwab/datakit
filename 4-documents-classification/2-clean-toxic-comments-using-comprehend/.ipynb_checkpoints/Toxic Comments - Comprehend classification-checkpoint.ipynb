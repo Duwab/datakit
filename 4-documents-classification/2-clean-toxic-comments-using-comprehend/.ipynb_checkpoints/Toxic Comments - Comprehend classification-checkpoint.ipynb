{
 "cells": [
  {
   "cell_type": "markdown",
   "metadata": {},
   "source": [
    "# Classify toxic comments using AWS Comprehend\n",
    "\n",
    "AWS Comprehend is a service that uses NLP to extract information of text files (comments, documents, ...). There is 2 way to use it :\n",
    "* Using the native model : simple and powerful way to extract Entities (people, dates, proper names, ...), key phrases, language, sentiment and syntax. It is based on large amount of training data.\n",
    "* Use custom classifier : create a model from s3 labeled documents, then run asynchronous jobs to classifier new documents\n",
    "\n",
    "More about comprehend here : https://docs.aws.amazon.com/comprehend/latest/dg/what-is.html\n",
    "\n",
    "Here we will show the way to format files that would be readable for aws comprehend. Then explain how to use it via AWS console. Further coding would be to replace console actions by programs using boto3"
   ]
  },
  {
   "cell_type": "code",
   "execution_count": 60,
   "metadata": {},
   "outputs": [],
   "source": [
    "import pandas as pd"
   ]
  },
  {
   "cell_type": "code",
   "execution_count": 61,
   "metadata": {},
   "outputs": [],
   "source": [
    "toxicComments = pd.read_csv('../0-data/toxic-comments/train_preprocessed.csv');"
   ]
  },
  {
   "cell_type": "code",
   "execution_count": 62,
   "metadata": {},
   "outputs": [
    {
     "data": {
      "text/plain": [
       "(159571, 10)"
      ]
     },
     "execution_count": 62,
     "metadata": {},
     "output_type": "execute_result"
    }
   ],
   "source": [
    "toxicComments.shape"
   ]
  },
  {
   "cell_type": "code",
   "execution_count": 63,
   "metadata": {},
   "outputs": [
    {
     "data": {
      "text/html": [
       "<div>\n",
       "<style scoped>\n",
       "    .dataframe tbody tr th:only-of-type {\n",
       "        vertical-align: middle;\n",
       "    }\n",
       "\n",
       "    .dataframe tbody tr th {\n",
       "        vertical-align: top;\n",
       "    }\n",
       "\n",
       "    .dataframe thead th {\n",
       "        text-align: right;\n",
       "    }\n",
       "</style>\n",
       "<table border=\"1\" class=\"dataframe\">\n",
       "  <thead>\n",
       "    <tr style=\"text-align: right;\">\n",
       "      <th></th>\n",
       "      <th>comment_text</th>\n",
       "      <th>id</th>\n",
       "      <th>identity_hate</th>\n",
       "      <th>insult</th>\n",
       "      <th>obscene</th>\n",
       "      <th>set</th>\n",
       "      <th>severe_toxic</th>\n",
       "      <th>threat</th>\n",
       "      <th>toxic</th>\n",
       "      <th>toxicity</th>\n",
       "    </tr>\n",
       "  </thead>\n",
       "  <tbody>\n",
       "    <tr>\n",
       "      <th>0</th>\n",
       "      <td>explanation why the edits made under my userna...</td>\n",
       "      <td>0000997932d777bf</td>\n",
       "      <td>0.0</td>\n",
       "      <td>0.0</td>\n",
       "      <td>0.0</td>\n",
       "      <td>train</td>\n",
       "      <td>0.0</td>\n",
       "      <td>0.0</td>\n",
       "      <td>0.0</td>\n",
       "      <td>0.0</td>\n",
       "    </tr>\n",
       "    <tr>\n",
       "      <th>1</th>\n",
       "      <td>d aww  he matches this background colour i m s...</td>\n",
       "      <td>000103f0d9cfb60f</td>\n",
       "      <td>0.0</td>\n",
       "      <td>0.0</td>\n",
       "      <td>0.0</td>\n",
       "      <td>train</td>\n",
       "      <td>0.0</td>\n",
       "      <td>0.0</td>\n",
       "      <td>0.0</td>\n",
       "      <td>0.0</td>\n",
       "    </tr>\n",
       "  </tbody>\n",
       "</table>\n",
       "</div>"
      ],
      "text/plain": [
       "                                        comment_text                id  \\\n",
       "0  explanation why the edits made under my userna...  0000997932d777bf   \n",
       "1  d aww  he matches this background colour i m s...  000103f0d9cfb60f   \n",
       "\n",
       "   identity_hate  insult  obscene    set  severe_toxic  threat  toxic  \\\n",
       "0            0.0     0.0      0.0  train           0.0     0.0    0.0   \n",
       "1            0.0     0.0      0.0  train           0.0     0.0    0.0   \n",
       "\n",
       "   toxicity  \n",
       "0       0.0  \n",
       "1       0.0  "
      ]
     },
     "execution_count": 63,
     "metadata": {},
     "output_type": "execute_result"
    }
   ],
   "source": [
    "toxicComments.head(2)"
   ]
  },
  {
   "cell_type": "code",
   "execution_count": 64,
   "metadata": {},
   "outputs": [],
   "source": [
    "def getRowToxicityLabel (row):\n",
    "    if(row['identity_hate']):\n",
    "        return \"IDENTITY_HATE\"\n",
    "    elif(row.insult):\n",
    "        return \"INSULT\"\n",
    "    elif(row.obscene):\n",
    "        return \"OBSCENE\"\n",
    "    elif(row.severe_toxic):\n",
    "        return \"SEVERE_TOXIC\"\n",
    "    elif(row.threat):\n",
    "        return \"threat\"\n",
    "    elif(row.toxic):\n",
    "        return \"TOXIC\"\n",
    "    elif(row.toxicity):\n",
    "        return \"TOXICITY\"\n",
    "    else:\n",
    "        return \"CLEAN\""
   ]
  },
  {
   "cell_type": "code",
   "execution_count": 65,
   "metadata": {},
   "outputs": [],
   "source": [
    "labeledComments = pd.DataFrame({\n",
    "    \"label\": toxicComments.apply(getRowToxicityLabel, axis=1),\n",
    "    \"text\": toxicComments.comment_text\n",
    "})"
   ]
  },
  {
   "cell_type": "code",
   "execution_count": 66,
   "metadata": {},
   "outputs": [
    {
     "data": {
      "text/html": [
       "<div>\n",
       "<style scoped>\n",
       "    .dataframe tbody tr th:only-of-type {\n",
       "        vertical-align: middle;\n",
       "    }\n",
       "\n",
       "    .dataframe tbody tr th {\n",
       "        vertical-align: top;\n",
       "    }\n",
       "\n",
       "    .dataframe thead th {\n",
       "        text-align: right;\n",
       "    }\n",
       "</style>\n",
       "<table border=\"1\" class=\"dataframe\">\n",
       "  <thead>\n",
       "    <tr style=\"text-align: right;\">\n",
       "      <th></th>\n",
       "      <th>label</th>\n",
       "      <th>text</th>\n",
       "    </tr>\n",
       "  </thead>\n",
       "  <tbody>\n",
       "    <tr>\n",
       "      <th>0</th>\n",
       "      <td>CLEAN</td>\n",
       "      <td>explanation why the edits made under my userna...</td>\n",
       "    </tr>\n",
       "    <tr>\n",
       "      <th>1</th>\n",
       "      <td>CLEAN</td>\n",
       "      <td>d aww  he matches this background colour i m s...</td>\n",
       "    </tr>\n",
       "    <tr>\n",
       "      <th>2</th>\n",
       "      <td>CLEAN</td>\n",
       "      <td>hey man  i m really not trying to edit war  it...</td>\n",
       "    </tr>\n",
       "    <tr>\n",
       "      <th>3</th>\n",
       "      <td>CLEAN</td>\n",
       "      <td>more i can t make any real suggestions on im...</td>\n",
       "    </tr>\n",
       "    <tr>\n",
       "      <th>4</th>\n",
       "      <td>CLEAN</td>\n",
       "      <td>you  sir  are my hero  any chance you remember...</td>\n",
       "    </tr>\n",
       "    <tr>\n",
       "      <th>5</th>\n",
       "      <td>CLEAN</td>\n",
       "      <td>congratulations from me as well  use the tool...</td>\n",
       "    </tr>\n",
       "    <tr>\n",
       "      <th>6</th>\n",
       "      <td>INSULT</td>\n",
       "      <td>cock  suck before you piss around on my work</td>\n",
       "    </tr>\n",
       "    <tr>\n",
       "      <th>7</th>\n",
       "      <td>CLEAN</td>\n",
       "      <td>your vandalism to the matt shirvington article...</td>\n",
       "    </tr>\n",
       "    <tr>\n",
       "      <th>8</th>\n",
       "      <td>CLEAN</td>\n",
       "      <td>sorry if the word  nonsense  was offensive to ...</td>\n",
       "    </tr>\n",
       "    <tr>\n",
       "      <th>9</th>\n",
       "      <td>CLEAN</td>\n",
       "      <td>alignment on this subject and which are contra...</td>\n",
       "    </tr>\n",
       "  </tbody>\n",
       "</table>\n",
       "</div>"
      ],
      "text/plain": [
       "    label                                               text\n",
       "0   CLEAN  explanation why the edits made under my userna...\n",
       "1   CLEAN  d aww  he matches this background colour i m s...\n",
       "2   CLEAN  hey man  i m really not trying to edit war  it...\n",
       "3   CLEAN    more i can t make any real suggestions on im...\n",
       "4   CLEAN  you  sir  are my hero  any chance you remember...\n",
       "5   CLEAN   congratulations from me as well  use the tool...\n",
       "6  INSULT       cock  suck before you piss around on my work\n",
       "7   CLEAN  your vandalism to the matt shirvington article...\n",
       "8   CLEAN  sorry if the word  nonsense  was offensive to ...\n",
       "9   CLEAN  alignment on this subject and which are contra..."
      ]
     },
     "execution_count": 66,
     "metadata": {},
     "output_type": "execute_result"
    }
   ],
   "source": [
    "labeledComments.head(10)"
   ]
  },
  {
   "cell_type": "code",
   "execution_count": 67,
   "metadata": {},
   "outputs": [],
   "source": [
    "labeledComments.to_csv('./train_set.csv', encoding='utf-8', index=False, header=False)"
   ]
  },
  {
   "cell_type": "code",
   "execution_count": 68,
   "metadata": {},
   "outputs": [],
   "source": [
    "testComments = pd.DataFrame(data=[\n",
    "    \"hello, I'd like to know where I could find tutorials about Machine Learning\",\n",
    "    \"You bitch have no clue of what you say'in\"\n",
    "])\n",
    "testComments.to_csv('./test_set.csv', encoding='utf-8', index=False, header=False)"
   ]
  },
  {
   "cell_type": "markdown",
   "metadata": {},
   "source": [
    "## Next steps\n",
    "\n",
    "To use comprehend to classify further comments :\n",
    "* Upload train_set.csv to s3\n",
    "* Create a custom classifier using train_set.csv as train data (using aws-cli or online console)\n",
    "* Upload test_set.csv to s3\n",
    "* Create a job using test_set.csv as input\n",
    "* Run the job\n",
    "* After job processing, results will be available on s3\n",
    "\n",
    "Note that AWS Comprehend custom classifiers are currently async. Meaning that you won't be able to get predictions via simple request, but you have to create and run a job and then read the s3 result file.\n",
    "\n",
    "Ref: https://docs.aws.amazon.com/comprehend/latest/dg/what-is.html\n",
    "> \"Training and calling custom comprehend models are both async (batch) operations.\"\n",
    "\n",
    "Result for the test_set.csv predictions:\n",
    "```\n",
    "~/Sources/datascience/datakit/4-documents-classification$ cat ~/Downloads/predictions.jsonl\n",
    "{\"File\": \"comments-tests.csv\", \"Line\": \"1\", \"Classes\": [{\"Name\": \"CLEAN\", \"Score\": 0.9999}, {\"Name\": \"TOXIC\", \"Score\": 0.0001}, {\"Name\": \"OBSCENE\", \"Score\": 0.0}]}\n",
    "{\"File\": \"comments-tests.csv\", \"Line\": \"2\", \"Classes\": [{\"Name\": \"INSULT\", \"Score\": 0.5994}, {\"Name\": \"TOXIC\", \"Score\": 0.3135}, {\"Name\": \"IDENTITY_HATE\", \"Score\": 0.0585}]}\n",
    "```"
   ]
  },
  {
   "cell_type": "markdown",
   "metadata": {},
   "source": [
    "### Re-train/re-run the model\n",
    "To run job for new values :\n",
    "* Replace test_set.csv on S3\n",
    "* Create job with same parameters as before\n",
    "* Run the job and read results after processing\n",
    "\n",
    "To re-train model :\n",
    "* Replace train_set.csv with new values (it shall have been easier to label toxic comments thanks to help of classifier's jobs' results)\n",
    "* Copy previous classifier\n",
    "* Train newly created classifier\n",
    "* Create new job using same parameters as before, except the model choice\n",
    "* Delete the previous job & classifier"
   ]
  },
  {
   "cell_type": "markdown",
   "metadata": {},
   "source": [
    "### Considerations about this Notebook\n",
    "\n",
    "According to AWS documentation (https://docs.aws.amazon.com/comprehend/latest/dg/how-document-classification-training.html), it doesn't seems to be possible to specify multiple labels per text document. That will explain why we will have a good accuracy result, but a low presion and recall. We train classifier with only 1 label per document when theses might have several.\n",
    "\n",
    "See this as an example only."
   ]
  },
  {
   "cell_type": "code",
   "execution_count": null,
   "metadata": {},
   "outputs": [],
   "source": []
  }
 ],
 "metadata": {
  "kernelspec": {
   "display_name": "Python 3",
   "language": "python",
   "name": "python3"
  },
  "language_info": {
   "codemirror_mode": {
    "name": "ipython",
    "version": 3
   },
   "file_extension": ".py",
   "mimetype": "text/x-python",
   "name": "python",
   "nbconvert_exporter": "python",
   "pygments_lexer": "ipython3",
   "version": "3.7.1"
  }
 },
 "nbformat": 4,
 "nbformat_minor": 2
}
